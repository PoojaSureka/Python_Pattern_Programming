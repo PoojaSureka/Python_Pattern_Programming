{
 "cells": [
  {
   "cell_type": "code",
   "execution_count": 2,
   "metadata": {},
   "outputs": [
    {
     "name": "stdout",
     "output_type": "stream",
     "text": [
      "* \n",
      "* * \n",
      "* * * \n",
      "* * * * \n",
      "* * * * * \n"
     ]
    }
   ],
   "source": [
    "n = 5\n",
    "for i in range(n):\n",
    "    for j in range(i+1):\n",
    "        print(\"*\", end = \" \")\n",
    "    print()"
   ]
  },
  {
   "cell_type": "code",
   "execution_count": 3,
   "metadata": {},
   "outputs": [
    {
     "name": "stdout",
     "output_type": "stream",
     "text": [
      "* * * * * \n",
      "* * * * \n",
      "* * * \n",
      "* * \n",
      "* \n"
     ]
    }
   ],
   "source": [
    "n = 5\n",
    "for i in range(n):\n",
    "    for j in range(i,n):\n",
    "        print(\"*\", end = \" \")\n",
    "    print()"
   ]
  },
  {
   "cell_type": "code",
   "execution_count": 4,
   "metadata": {},
   "outputs": [
    {
     "name": "stdout",
     "output_type": "stream",
     "text": [
      "A \n",
      "A A \n",
      "A A A \n",
      "A A A A \n",
      "A A A A A \n"
     ]
    }
   ],
   "source": [
    "n = 5\n",
    "for i in range(n):\n",
    "    for j in range(i+1):\n",
    "        print(\"A\", end = \" \")\n",
    "    print()"
   ]
  },
  {
   "cell_type": "code",
   "execution_count": 7,
   "metadata": {},
   "outputs": [
    {
     "name": "stdout",
     "output_type": "stream",
     "text": [
      "A \n",
      "A A \n",
      "A A A \n",
      "A A A A \n",
      "A A A A A \n"
     ]
    }
   ],
   "source": [
    "n = 5\n",
    "for i in range(n):\n",
    "    for j in range(i+1):\n",
    "        print(chr(65), end = \" \")\n",
    "    print()"
   ]
  },
  {
   "cell_type": "code",
   "execution_count": 10,
   "metadata": {},
   "outputs": [
    {
     "name": "stdout",
     "output_type": "stream",
     "text": [
      "A \n",
      "B B \n",
      "C C C \n",
      "D D D D \n",
      "E E E E E \n"
     ]
    }
   ],
   "source": [
    "n = 5\n",
    "p = 65\n",
    "for i in range(n):\n",
    "    for j in range(i+1):\n",
    "        print(chr(p), end = \" \")\n",
    "    p = p+1\n",
    "    print()"
   ]
  },
  {
   "cell_type": "code",
   "execution_count": 11,
   "metadata": {},
   "outputs": [
    {
     "name": "stdout",
     "output_type": "stream",
     "text": [
      "A\n",
      "BB\n",
      "CCC\n",
      "DDDD\n",
      "EEEEE\n"
     ]
    }
   ],
   "source": [
    "n = 5\n",
    "p = 65\n",
    "for i in range(n):\n",
    "    for j in range(i+1):\n",
    "        print(chr(p), end = \"\")\n",
    "    p = p+1\n",
    "    print()"
   ]
  },
  {
   "cell_type": "code",
   "execution_count": 13,
   "metadata": {},
   "outputs": [
    {
     "name": "stdout",
     "output_type": "stream",
     "text": [
      "A \n",
      "C C \n",
      "E E E \n",
      "G G G G \n",
      "I I I I I \n"
     ]
    }
   ],
   "source": [
    "n = 5\n",
    "p = 65\n",
    "for i in range(n):\n",
    "    for j in range(i+1):\n",
    "        print(chr(p), end = \" \")\n",
    "    p = p+2\n",
    "    print()"
   ]
  },
  {
   "cell_type": "code",
   "execution_count": 14,
   "metadata": {},
   "outputs": [
    {
     "name": "stdout",
     "output_type": "stream",
     "text": [
      "E \n",
      "D D \n",
      "C C C \n",
      "B B B B \n",
      "A A A A A \n"
     ]
    }
   ],
   "source": [
    "n = 5\n",
    "p = 69\n",
    "for i in range(n):\n",
    "    for j in range(i+1):\n",
    "        print(chr(p), end = \" \")\n",
    "    p = p-1\n",
    "    print()"
   ]
  },
  {
   "cell_type": "code",
   "execution_count": 15,
   "metadata": {},
   "outputs": [
    {
     "name": "stdout",
     "output_type": "stream",
     "text": [
      "Z \n",
      "Y Y \n",
      "X X X \n",
      "W W W W \n",
      "V V V V V \n"
     ]
    }
   ],
   "source": [
    "n = 5\n",
    "p = 90\n",
    "for i in range(n):\n",
    "    for j in range(i+1):\n",
    "        print(chr(p), end = \" \")\n",
    "    p = p-1\n",
    "    print()"
   ]
  },
  {
   "cell_type": "code",
   "execution_count": 16,
   "metadata": {},
   "outputs": [
    {
     "name": "stdout",
     "output_type": "stream",
     "text": [
      "Z \n",
      "Z Y \n",
      "Z Y X \n",
      "Z Y X W \n",
      "Z Y X W V \n"
     ]
    }
   ],
   "source": [
    "n = 5\n",
    "\n",
    "for i in range(n):\n",
    "    p = 90\n",
    "    for j in range(i+1):\n",
    "        print(chr(p), end = \" \")\n",
    "        p = p-1\n",
    "    print()"
   ]
  },
  {
   "cell_type": "code",
   "execution_count": 17,
   "metadata": {},
   "outputs": [
    {
     "name": "stdout",
     "output_type": "stream",
     "text": [
      "A \n",
      "A B \n",
      "A B C \n",
      "A B C D \n",
      "A B C D E \n"
     ]
    }
   ],
   "source": [
    "n = 5\n",
    "\n",
    "for i in range(n):\n",
    "    p = 65\n",
    "    for j in range(i+1):\n",
    "        print(chr(p), end = \" \")\n",
    "        p = p+1\n",
    "    print()"
   ]
  },
  {
   "cell_type": "code",
   "execution_count": 20,
   "metadata": {},
   "outputs": [
    {
     "name": "stdout",
     "output_type": "stream",
     "text": [
      "A \n",
      "B B \n",
      "A A A \n",
      "B B B B \n",
      "A A A A A \n"
     ]
    }
   ],
   "source": [
    "n = 5\n",
    "\n",
    "for i in range(n):\n",
    "    for j in range(i+1):\n",
    "        if i%2==0:\n",
    "            print(\"A\", end = \" \")\n",
    "        else:\n",
    "            print(\"B\", end = \" \")\n",
    "    print()"
   ]
  },
  {
   "cell_type": "code",
   "execution_count": 1,
   "metadata": {},
   "outputs": [
    {
     "name": "stdout",
     "output_type": "stream",
     "text": [
      "Z \n",
      "0 0 \n",
      "Z Z Z \n",
      "0 0 0 0 \n",
      "Z Z Z Z Z \n"
     ]
    }
   ],
   "source": [
    "n = 5\n",
    "\n",
    "for i in range(n):\n",
    "    for j in range(i+1):\n",
    "        if i%2==0:\n",
    "            print(\"Z\", end = \" \")\n",
    "        else:\n",
    "            print(\"0\", end = \" \")\n",
    "    print()"
   ]
  },
  {
   "cell_type": "code",
   "execution_count": 3,
   "metadata": {},
   "outputs": [
    {
     "name": "stdout",
     "output_type": "stream",
     "text": [
      "          A \n",
      "        B B B \n",
      "      C C C C C \n",
      "    D D D D D D D \n",
      "  E E E E E E E E E \n",
      "    F F F F F F F \n",
      "      G G G G G \n",
      "        H H H \n",
      "          I \n"
     ]
    }
   ],
   "source": [
    "n = 5\n",
    "p = 65\n",
    "for i in range(n-1):\n",
    "    for j in range(i,n):\n",
    "        print(\" \", end = \" \")\n",
    "    for j in range(i):\n",
    "        print(chr(p), end = \" \")\n",
    "    for j in range(i+1):\n",
    "        print(chr(p), end = \" \")\n",
    "    p = p+1\n",
    "    print()\n",
    "for i  in range(n):\n",
    "    for j in range(i+1):\n",
    "        print(\" \", end = \" \")\n",
    "    for j in range(i,n-1):\n",
    "        print(chr(p), end = \" \")\n",
    "    for j in range(i,n):\n",
    "        print(chr(p), end = \" \")\n",
    "    p = p+1\n",
    "    print()\n"
   ]
  },
  {
   "cell_type": "code",
   "execution_count": 6,
   "metadata": {},
   "outputs": [
    {
     "name": "stdout",
     "output_type": "stream",
     "text": [
      "          A \n",
      "        B B B \n",
      "      C C C C C \n",
      "    D D D D D D D \n",
      "  E E E E E E E E E \n",
      "    D D D D D D D \n",
      "      C C C C C \n",
      "        B B B \n",
      "          A \n"
     ]
    }
   ],
   "source": [
    "n = 5\n",
    "p = 65\n",
    "for i in range(n-1):\n",
    "    for j in range(i,n):\n",
    "        print(\" \", end = \" \")\n",
    "    for j in range(i):\n",
    "        print(chr(p), end = \" \")\n",
    "    for j in range(i+1):\n",
    "        print(chr(p), end = \" \")\n",
    "    p = p+1\n",
    "    print()\n",
    "for i  in range(n):\n",
    "    for j in range(i+1):\n",
    "        print(\" \", end = \" \")\n",
    "    for j in range(i,n-1):\n",
    "        print(chr(p), end = \" \")\n",
    "    for j in range(i,n):\n",
    "        print(chr(p), end = \" \")\n",
    "    p = p-1\n",
    "    print()"
   ]
  },
  {
   "cell_type": "code",
   "execution_count": 10,
   "metadata": {},
   "outputs": [
    {
     "name": "stdout",
     "output_type": "stream",
     "text": [
      "          * \n",
      "        * * * \n",
      "      * * * * * \n",
      "    * * * * * * * \n",
      "  * * * * * * * * * \n",
      "  * * * * * * * * * \n",
      "    * * * * * * * \n",
      "      * * * * * \n",
      "        * * * \n",
      "          * \n"
     ]
    }
   ],
   "source": [
    "n = 5\n",
    "for i in range(n):\n",
    "    for j in range(i,n):\n",
    "        print(\" \", end = \" \")\n",
    "    for j in range(i):\n",
    "        print(\"*\", end = \" \")\n",
    "    for j in range(i+1):\n",
    "        print(\"*\", end = \" \")\n",
    "    print()\n",
    "for i in range(n):\n",
    "    for j in range(i+1):\n",
    "        print(\" \", end = \" \")\n",
    "    for j in range(i,n-1):\n",
    "        print(\"*\", end = \" \")\n",
    "    for j in range(i,n):\n",
    "        print(\"*\", end = \" \")\n",
    "    print()"
   ]
  },
  {
   "cell_type": "code",
   "execution_count": 15,
   "metadata": {},
   "outputs": [
    {
     "name": "stdout",
     "output_type": "stream",
     "text": [
      "          * \n",
      "        * * * \n",
      "      * * * * * \n",
      "    * * * * * * * \n",
      "  * * * * * * * * * \n"
     ]
    }
   ],
   "source": [
    "n = 5\n",
    "for i in range(n):\n",
    "    for j in range(i,n):\n",
    "        print(\" \", end = \" \")\n",
    "    for j in range(i):\n",
    "        print(\"*\", end = \" \")\n",
    "    for j in range(i+1):\n",
    "        print(\"*\", end = \" \")\n",
    "    print()"
   ]
  },
  {
   "cell_type": "code",
   "execution_count": 12,
   "metadata": {},
   "outputs": [
    {
     "name": "stdout",
     "output_type": "stream",
     "text": [
      "  * * * * * * * * * \n",
      "    * * * * * * * \n",
      "      * * * * * \n",
      "        * * * \n",
      "          * \n"
     ]
    }
   ],
   "source": [
    "n=5\n",
    "for i in range(n):\n",
    "    for j in range(i+1):\n",
    "        print(\" \", end = \" \")\n",
    "    for j in range(i,n-1):\n",
    "        print(\"*\", end = \" \")\n",
    "    for j in range(i,n):\n",
    "        print(\"*\", end = \" \")\n",
    "    print()"
   ]
  },
  {
   "cell_type": "code",
   "execution_count": 18,
   "metadata": {},
   "outputs": [
    {
     "name": "stdout",
     "output_type": "stream",
     "text": [
      "          * \n",
      "        * * * \n",
      "      * * * * * \n",
      "    * * * * * * * \n",
      "  * * * * * * * * * \n",
      "    * * * * * * * \n",
      "      * * * * * \n",
      "        * * * \n",
      "          * \n"
     ]
    }
   ],
   "source": [
    "n = 5\n",
    "for i in range(n-1):\n",
    "    for j in range(i,n):\n",
    "        print(\" \", end = \" \")\n",
    "    for j in range(i):\n",
    "        print(\"*\", end = \" \")\n",
    "    for j in range(i+1):\n",
    "        print(\"*\", end = \" \")\n",
    "    print()\n",
    "for i in range(n):\n",
    "    for j in range(i+1):\n",
    "        print(\" \", end = \" \")\n",
    "    for j in range(i,n-1):\n",
    "        print(\"*\", end = \" \")\n",
    "    for j in range(i,n):\n",
    "        print(\"*\", end = \" \")\n",
    "    print()"
   ]
  },
  {
   "cell_type": "code",
   "execution_count": 24,
   "metadata": {},
   "outputs": [
    {
     "name": "stdout",
     "output_type": "stream",
     "text": [
      "          A \n",
      "        B B B \n",
      "      C C C C C \n",
      "    D D D D D D D \n",
      "  E E E E E E E E E \n",
      "    F F F F F F F \n",
      "      G G G G G \n",
      "        H H H \n",
      "          I \n"
     ]
    }
   ],
   "source": [
    "n = 5\n",
    "p = 65\n",
    "for i in range(n-1):\n",
    "    for j in range(i,n):\n",
    "        print(\" \", end = \" \")\n",
    "    for j in range(i):\n",
    "        print(chr(p), end = \" \")\n",
    "    for j in range(i+1):\n",
    "        print(chr(p), end = \" \")\n",
    "    p = p+1\n",
    "    print()\n",
    "for i in range(n):\n",
    "    for j in range(i+1):\n",
    "        print(\" \", end = \" \")\n",
    "    for j in range(i,n-1):\n",
    "        print(chr(p), end = \" \")\n",
    "    for j in range(i,n):\n",
    "        print(chr(p), end = \" \")\n",
    "    p = p+1\n",
    "    print()"
   ]
  },
  {
   "cell_type": "code",
   "execution_count": 25,
   "metadata": {},
   "outputs": [
    {
     "name": "stdout",
     "output_type": "stream",
     "text": [
      "          A \n",
      "        B B B \n",
      "      C C C C C \n",
      "    D D D D D D D \n",
      "  E E E E E E E E E \n",
      "    D D D D D D D \n",
      "      C C C C C \n",
      "        B B B \n",
      "          A \n"
     ]
    }
   ],
   "source": [
    "n = 5\n",
    "p = 65\n",
    "for i in range(n-1):\n",
    "    for j in range(i,n):\n",
    "        print(\" \", end = \" \")\n",
    "    for j in range(i):\n",
    "        print(chr(p), end = \" \")\n",
    "    for j in range(i+1):\n",
    "        print(chr(p), end = \" \")\n",
    "    p = p+1\n",
    "    print()\n",
    "for i in range(n):\n",
    "    for j in range(i+1):\n",
    "        print(\" \", end = \" \")\n",
    "    for j in range(i,n-1):\n",
    "        print(chr(p), end = \" \")\n",
    "    for j in range(i,n):\n",
    "        print(chr(p), end = \" \")\n",
    "    p = p-1\n",
    "    print()"
   ]
  },
  {
   "cell_type": "code",
   "execution_count": 26,
   "metadata": {},
   "outputs": [
    {
     "name": "stdout",
     "output_type": "stream",
     "text": [
      "A \n",
      "A B \n",
      "A B C \n",
      "A B C D \n",
      "A B C D E \n"
     ]
    }
   ],
   "source": [
    "n = 5\n",
    "for i in range(n):\n",
    "    p = 65\n",
    "    for j in range(i+1):\n",
    "        print(chr(p), end = \" \")\n",
    "        p = p+1\n",
    "    print()"
   ]
  },
  {
   "cell_type": "code",
   "execution_count": 31,
   "metadata": {},
   "outputs": [
    {
     "name": "stdout",
     "output_type": "stream",
     "text": [
      "Z \n",
      "Z Y \n",
      "Z Y X \n",
      "Z Y X W \n",
      "Z Y X W V \n"
     ]
    }
   ],
   "source": [
    "n = 5\n",
    "for i in range(n):\n",
    "    p = 90\n",
    "    for j in range(i+1):\n",
    "        print(chr(p), end = \" \")\n",
    "        p = p-1\n",
    "    print()"
   ]
  },
  {
   "cell_type": "code",
   "execution_count": 40,
   "metadata": {},
   "outputs": [
    {
     "name": "stdout",
     "output_type": "stream",
     "text": [
      "  A B C D E \n",
      "    A B C D \n",
      "      A B C \n",
      "        A B \n",
      "          A \n"
     ]
    }
   ],
   "source": [
    "n = 5\n",
    "for i in range(n):\n",
    "    p = 65\n",
    "    for j in range(i+1):\n",
    "        print(\" \", end = \" \")\n",
    "    for j in range(i,n):\n",
    "        print(chr(p), end = \" \")\n",
    "        p = p+1\n",
    "    print()"
   ]
  },
  {
   "cell_type": "code",
   "execution_count": 46,
   "metadata": {},
   "outputs": [
    {
     "name": "stdout",
     "output_type": "stream",
     "text": [
      "          A \n",
      "        A B C \n",
      "      A B C D E \n",
      "    A B C D E F G \n",
      "  A B C D E F G H I \n"
     ]
    }
   ],
   "source": [
    "n = 5\n",
    "for i in range(n):\n",
    "    p = 65\n",
    "    for j in range(i,n):\n",
    "        print(\" \", end = \" \")\n",
    "    for j in range(i):\n",
    "        print(chr(p), end = \" \")\n",
    "        p = p+1\n",
    "    for j in range(i+1):\n",
    "        print(chr(p), end = \" \")\n",
    "        p = p+1\n",
    "    print()"
   ]
  },
  {
   "cell_type": "code",
   "execution_count": 47,
   "metadata": {},
   "outputs": [
    {
     "name": "stdout",
     "output_type": "stream",
     "text": [
      "          A \n",
      "        A B A \n",
      "      A B C B A \n",
      "    A B C D C B A \n",
      "  A B C D E D C B A \n"
     ]
    }
   ],
   "source": [
    "n = 5\n",
    "for i in range(n):\n",
    "    p = 65\n",
    "    for j in range(i,n):\n",
    "        print(\" \", end = \" \")\n",
    "    for j in range(i):\n",
    "        print(chr(p), end = \" \")\n",
    "        p = p+1\n",
    "    for j in range(i+1):\n",
    "        print(chr(p), end = \" \")\n",
    "        p = p-1\n",
    "    print()"
   ]
  },
  {
   "cell_type": "code",
   "execution_count": 50,
   "metadata": {},
   "outputs": [
    {
     "name": "stdout",
     "output_type": "stream",
     "text": [
      "E \n",
      "E D \n",
      "E D C \n",
      "E D C B \n",
      "E D C B A \n"
     ]
    }
   ],
   "source": [
    "n = 5\n",
    "p = 69\n",
    "for i in range(n):\n",
    "    p = 69\n",
    "    for j in range(i+1):\n",
    "        print(chr(p), end = \" \")\n",
    "        p = p-1\n",
    "    print()"
   ]
  },
  {
   "cell_type": "code",
   "execution_count": 56,
   "metadata": {},
   "outputs": [
    {
     "name": "stdout",
     "output_type": "stream",
     "text": [
      "E D C B A \n",
      "  D C B A \n",
      "    C B A \n",
      "      B A \n",
      "        A \n"
     ]
    }
   ],
   "source": [
    "n = 5\n",
    "k = 69\n",
    "for i in range(n):\n",
    "    p = k\n",
    "    for j in range(i):\n",
    "        print(\" \", end = \" \")\n",
    "    for j in range(i,n):\n",
    "        print(chr(p), end = \" \")\n",
    "        p = p-1\n",
    "    k = k-1\n",
    "    print()"
   ]
  },
  {
   "cell_type": "code",
   "execution_count": 57,
   "metadata": {},
   "outputs": [
    {
     "name": "stdout",
     "output_type": "stream",
     "text": [
      "  E D C B A \n",
      "    D C B A \n",
      "      C B A \n",
      "        B A \n",
      "          A \n"
     ]
    }
   ],
   "source": [
    "n = 5\n",
    "k = 69\n",
    "for i in range(n):\n",
    "    p = k\n",
    "    for j in range(i+1):\n",
    "        print(\" \", end = \" \")\n",
    "    for j in range(i,n):\n",
    "        print(chr(p), end = \" \")\n",
    "        p = p-1\n",
    "    k = k-1\n",
    "    print()"
   ]
  },
  {
   "cell_type": "code",
   "execution_count": 60,
   "metadata": {},
   "outputs": [
    {
     "name": "stdout",
     "output_type": "stream",
     "text": [
      "          A \n",
      "        A B A \n",
      "      A B C B A \n",
      "    A B C D C B A \n",
      "  A B C D E D C B A \n"
     ]
    }
   ],
   "source": [
    "n = 5\n",
    "for i in range(n):\n",
    "    p = 65\n",
    "    for j in range(i,n):\n",
    "        print(\" \", end = \" \")\n",
    "    for j in range(i):\n",
    "        print(chr(p), end = \" \")\n",
    "        p = p+1\n",
    "    for j in range(i+1):\n",
    "        print(chr(p), end = \" \")\n",
    "        p = p-1\n",
    "    print()"
   ]
  },
  {
   "cell_type": "code",
   "execution_count": 64,
   "metadata": {},
   "outputs": [
    {
     "name": "stdout",
     "output_type": "stream",
     "text": [
      "C \n",
      "O O \n",
      "D D D \n",
      "E E E E \n",
      "R R R R R \n"
     ]
    }
   ],
   "source": [
    "n = 5\n",
    "s = \"CODER\"\n",
    "n = len(s)\n",
    "p = 0\n",
    "for i in range(n):\n",
    "    for j in range(i+1):\n",
    "        print(s[p], end = \" \")\n",
    "    p = p+1\n",
    "    print()"
   ]
  },
  {
   "cell_type": "code",
   "execution_count": 65,
   "metadata": {},
   "outputs": [
    {
     "name": "stdout",
     "output_type": "stream",
     "text": [
      "P \n",
      "O O \n",
      "O O O \n",
      "J J J J \n",
      "A A A A A \n"
     ]
    }
   ],
   "source": [
    "n = 5\n",
    "s = \"POOJA\"\n",
    "n = len(s)\n",
    "p = 0\n",
    "for i in range(n):\n",
    "    for j in range(i+1):\n",
    "        print(s[p], end = \" \")\n",
    "    p = p+1\n",
    "    print()"
   ]
  },
  {
   "cell_type": "code",
   "execution_count": 66,
   "metadata": {},
   "outputs": [
    {
     "name": "stdout",
     "output_type": "stream",
     "text": [
      "  P P P P P \n",
      "    O O O O \n",
      "      O O O \n",
      "        J J \n",
      "          A \n"
     ]
    }
   ],
   "source": [
    "n = 5\n",
    "s = \"POOJA\"\n",
    "n = len(s)\n",
    "p = 0\n",
    "for i in range(n):\n",
    "    for j in range(i+1):\n",
    "        print(\" \", end = \" \")\n",
    "    for j in range(i,n):\n",
    "        print(s[p], end = \" \")\n",
    "    p = p+1\n",
    "    print()"
   ]
  },
  {
   "cell_type": "code",
   "execution_count": 69,
   "metadata": {},
   "outputs": [
    {
     "name": "stdout",
     "output_type": "stream",
     "text": [
      "          C \n",
      "        O O O \n",
      "      D D D D D \n",
      "    E E E E E E E \n",
      "  R R R R R R R R R \n"
     ]
    }
   ],
   "source": [
    "n = 5\n",
    "s = \"CODER\"\n",
    "n = len(s)\n",
    "p = 0\n",
    "for i in range(n):\n",
    "    for j in range(i,n):\n",
    "        print(\" \", end = \" \")\n",
    "    for j in range(i):\n",
    "        print(s[p], end = \" \")\n",
    "    for j in range(i+1):\n",
    "        print(s[p], end = \" \")\n",
    "    p = p+1\n",
    "    print()"
   ]
  },
  {
   "cell_type": "code",
   "execution_count": 71,
   "metadata": {},
   "outputs": [
    {
     "name": "stdout",
     "output_type": "stream",
     "text": [
      "R \n",
      "E E \n",
      "D D D \n",
      "O O O O \n",
      "C C C C C \n"
     ]
    }
   ],
   "source": [
    "n = 5\n",
    "s = \"CODER\"\n",
    "n = len(s)\n",
    "p = n-1\n",
    "for i in range(n):\n",
    "    for j in range(i+1):\n",
    "        print(s[p], end = \" \")\n",
    "    p = p-1\n",
    "    print()"
   ]
  },
  {
   "cell_type": "code",
   "execution_count": 73,
   "metadata": {},
   "outputs": [
    {
     "name": "stdout",
     "output_type": "stream",
     "text": [
      "          C \n",
      "        C O \n",
      "      C O D \n",
      "    C O D E \n",
      "  C O D E R \n"
     ]
    }
   ],
   "source": [
    "n = 5\n",
    "s = \"CODER\"\n",
    "n = len(s)\n",
    "\n",
    "for i in range(n):\n",
    "    p = 0\n",
    "    for j in range(i,n):\n",
    "        print(\" \", end = \" \")\n",
    "    for j in range(i+1):\n",
    "        print(s[p], end = \" \")\n",
    "        p = p+1\n",
    "    print()"
   ]
  },
  {
   "cell_type": "code",
   "execution_count": 74,
   "metadata": {},
   "outputs": [
    {
     "name": "stdout",
     "output_type": "stream",
     "text": [
      "          C \n",
      "        C O \n",
      "      C O D \n",
      "    C O D E \n",
      "  C O D E R \n"
     ]
    }
   ],
   "source": [
    "n = 5\n",
    "s = \"CODER\"\n",
    "\n",
    "\n",
    "for i in range(n):\n",
    "    p = 0\n",
    "    for j in range(i,n):\n",
    "        print(\" \", end = \" \")\n",
    "    for j in range(i+1):\n",
    "        print(s[p], end = \" \")\n",
    "        p = p+1\n",
    "    print()"
   ]
  },
  {
   "cell_type": "code",
   "execution_count": 76,
   "metadata": {},
   "outputs": [
    {
     "name": "stdout",
     "output_type": "stream",
     "text": [
      "R \n",
      "R E \n",
      "R E D \n",
      "R E D O \n",
      "R E D O C \n"
     ]
    }
   ],
   "source": [
    "n = 5\n",
    "s = \"REDOC\"\n",
    "\n",
    "for i in range(n):\n",
    "    p = 0\n",
    "    for j in range(i+1):\n",
    "        print(s[p], end = \" \")\n",
    "        p = p+1\n",
    "    print()"
   ]
  },
  {
   "cell_type": "code",
   "execution_count": 79,
   "metadata": {},
   "outputs": [
    {
     "name": "stdout",
     "output_type": "stream",
     "text": [
      "R \n",
      "R E \n",
      "R E D \n",
      "R E D O \n",
      "R E D O C \n"
     ]
    }
   ],
   "source": [
    "n = 5\n",
    "s = \"CODER\"\n",
    "n = len(s)\n",
    "for i in range(n):\n",
    "    p = n-1\n",
    "    for j in range(i+1):\n",
    "        print(s[p], end = \" \")\n",
    "        p = p-1\n",
    "    print()"
   ]
  },
  {
   "cell_type": "code",
   "execution_count": 86,
   "metadata": {},
   "outputs": [
    {
     "name": "stdout",
     "output_type": "stream",
     "text": [
      "  R E D O C \n",
      "    E D O C \n",
      "      D O C \n",
      "        O C \n",
      "          C \n"
     ]
    }
   ],
   "source": [
    "n = 5\n",
    "s = \"CODER\"\n",
    "n = len(s)\n",
    "k = n-1\n",
    "for i in range(n):\n",
    "    p = k\n",
    "    for j in range(i+1):\n",
    "        print(\" \", end = \" \")\n",
    "    for j in range(i,n):\n",
    "        print(s[p], end = \" \")\n",
    "        p = p-1\n",
    "    k = k-1\n",
    "    print()"
   ]
  },
  {
   "cell_type": "code",
   "execution_count": 88,
   "metadata": {},
   "outputs": [
    {
     "name": "stdout",
     "output_type": "stream",
     "text": [
      "  R E D O C \n",
      "    E D O C \n",
      "      D O C \n",
      "        O C \n",
      "          C \n"
     ]
    }
   ],
   "source": [
    "n = 5\n",
    "s = \"CODER\"\n",
    "n = len(s)\n",
    "k = n-1\n",
    "for i in range(n):\n",
    "    p = k\n",
    "    for j in range(i+1):\n",
    "        print(\" \", end = \" \")\n",
    "    for j in range(i,n):\n",
    "        print(s[p], end = \" \")\n",
    "        p = p-1\n",
    "    print()\n",
    "    k = k-1"
   ]
  },
  {
   "cell_type": "code",
   "execution_count": null,
   "metadata": {},
   "outputs": [],
   "source": []
  }
 ],
 "metadata": {
  "kernelspec": {
   "display_name": "Python 3",
   "language": "python",
   "name": "python3"
  },
  "language_info": {
   "codemirror_mode": {
    "name": "ipython",
    "version": 3
   },
   "file_extension": ".py",
   "mimetype": "text/x-python",
   "name": "python",
   "nbconvert_exporter": "python",
   "pygments_lexer": "ipython3",
   "version": "3.11.2"
  },
  "orig_nbformat": 4
 },
 "nbformat": 4,
 "nbformat_minor": 2
}
